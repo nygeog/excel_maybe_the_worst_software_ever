{
 "cells": [
  {
   "cell_type": "code",
   "execution_count": 21,
   "metadata": {
    "collapsed": false
   },
   "outputs": [
    {
     "name": "stdout",
     "output_type": "stream",
     "text": [
      "data/ASINs_Lake Union_PR Catalog_WinterSpring 2016.xlsx\n",
      "data/ASINs_Little A_PR Catalog_WinterSpring 2016.xlsx\n",
      "data/ASINs_Montlake_PR Catalog_WinterSpring 2016.xlsx\n",
      "data/ASINs_T&M_WinterSpring 2016.xlsx\n",
      "data/ASINs_TwoLions_WinterSpring 2016.xlsx\n"
     ]
    },
    {
     "data": {
      "text/html": [
       "<div>\n",
       "<table border=\"1\" class=\"dataframe\">\n",
       "  <thead>\n",
       "    <tr style=\"text-align: right;\">\n",
       "      <th></th>\n",
       "      <th>ASIN</th>\n",
       "      <th>Title</th>\n",
       "      <th>Publicity Contact Name</th>\n",
       "      <th>Paperback ISBN 13</th>\n",
       "    </tr>\n",
       "  </thead>\n",
       "  <tbody>\n",
       "    <tr>\n",
       "      <th>0</th>\n",
       "      <td>B00VVWB07S</td>\n",
       "      <td>The Restaurant Critic's Wife</td>\n",
       "      <td>Dennelle Catlett</td>\n",
       "      <td>9781503947757</td>\n",
       "    </tr>\n",
       "    <tr>\n",
       "      <th>1</th>\n",
       "      <td>B00YUICLNC</td>\n",
       "      <td>North of Here</td>\n",
       "      <td>Dennelle Catlett</td>\n",
       "      <td>9781503949980</td>\n",
       "    </tr>\n",
       "    <tr>\n",
       "      <th>2</th>\n",
       "      <td>B0142IHZPI</td>\n",
       "      <td>When I'm Gone</td>\n",
       "      <td>Dennelle Catlett</td>\n",
       "      <td>9781503951457</td>\n",
       "    </tr>\n",
       "    <tr>\n",
       "      <th>3</th>\n",
       "      <td>B015NXSI5M</td>\n",
       "      <td>Were We Fall</td>\n",
       "      <td>Dennelle Catlett</td>\n",
       "      <td>9781612184432</td>\n",
       "    </tr>\n",
       "    <tr>\n",
       "      <th>4</th>\n",
       "      <td>B012EZ3OMY</td>\n",
       "      <td>While You Were Mine</td>\n",
       "      <td>Dennelle Catlett</td>\n",
       "      <td>9781503952232</td>\n",
       "    </tr>\n",
       "    <tr>\n",
       "      <th>5</th>\n",
       "      <td>B016A31ZWW</td>\n",
       "      <td>Saving Abby</td>\n",
       "      <td>Dennelle Catlett</td>\n",
       "      <td>9781503934160</td>\n",
       "    </tr>\n",
       "    <tr>\n",
       "      <th>6</th>\n",
       "      <td>B015XWK89M</td>\n",
       "      <td>A House for Happy Mothers</td>\n",
       "      <td>Dennelle Catlett</td>\n",
       "      <td>9781503933316</td>\n",
       "    </tr>\n",
       "    <tr>\n",
       "      <th>7</th>\n",
       "      <td>B017BA9ASO</td>\n",
       "      <td>Edenland</td>\n",
       "      <td>Dennelle Catlett</td>\n",
       "      <td>9781503934948</td>\n",
       "    </tr>\n",
       "    <tr>\n",
       "      <th>8</th>\n",
       "      <td>B017182AQU</td>\n",
       "      <td>The Memory of Us</td>\n",
       "      <td>Dennelle Catlett</td>\n",
       "      <td>9781503934757</td>\n",
       "    </tr>\n",
       "    <tr>\n",
       "      <th>9</th>\n",
       "      <td>B016PX6EZ0</td>\n",
       "      <td>Leaving Blythe River</td>\n",
       "      <td>Dennelle Catlett</td>\n",
       "      <td>9781503934467</td>\n",
       "    </tr>\n",
       "  </tbody>\n",
       "</table>\n",
       "</div>"
      ],
      "text/plain": [
       "         ASIN                         Title Publicity Contact Name  \\\n",
       "0  B00VVWB07S  The Restaurant Critic's Wife       Dennelle Catlett   \n",
       "1  B00YUICLNC                 North of Here       Dennelle Catlett   \n",
       "2  B0142IHZPI                 When I'm Gone       Dennelle Catlett   \n",
       "3  B015NXSI5M                  Were We Fall       Dennelle Catlett   \n",
       "4  B012EZ3OMY           While You Were Mine       Dennelle Catlett   \n",
       "5  B016A31ZWW                   Saving Abby       Dennelle Catlett   \n",
       "6  B015XWK89M     A House for Happy Mothers       Dennelle Catlett   \n",
       "7  B017BA9ASO                      Edenland       Dennelle Catlett   \n",
       "8  B017182AQU              The Memory of Us       Dennelle Catlett   \n",
       "9  B016PX6EZ0          Leaving Blythe River       Dennelle Catlett   \n",
       "\n",
       "  Paperback ISBN 13  \n",
       "0     9781503947757  \n",
       "1     9781503949980  \n",
       "2     9781503951457  \n",
       "3     9781612184432  \n",
       "4     9781503952232  \n",
       "5     9781503934160  \n",
       "6     9781503933316  \n",
       "7     9781503934948  \n",
       "8     9781503934757  \n",
       "9     9781503934467  "
      ]
     },
     "execution_count": 21,
     "metadata": {},
     "output_type": "execute_result"
    }
   ],
   "source": [
    "import pandas as pd\n",
    "import glob as glob\n",
    "\n",
    "path ='data/' # use your path\n",
    "\n",
    "allFiles = glob.glob(path + \"/*.xlsx\")\n",
    "\n",
    "frame = pd.DataFrame()\n",
    "list_ = []\n",
    "for file_ in allFiles:\n",
    "    print file_\n",
    "    #df = pd.read_csv(file_,index_col=None, header=0)\n",
    "    df = pd.io.excel.read_excel(file_, 'Sheet1')\n",
    "    list_.append(df)\n",
    "frame = pd.concat(list_)\n",
    "\n",
    "\n",
    "len(frame.index)\n",
    "\n",
    "frame = frame[['ASIN','Title','Genre','Hardcover ISBN 13','Publicity Contact Name','Paperback ISBN 13']]\n",
    "\n",
    "frame.to_csv('asin_master.csv',index=False)\n",
    "\n",
    "frame.head(10)"
   ]
  },
  {
   "cell_type": "code",
   "execution_count": null,
   "metadata": {
    "collapsed": false
   },
   "outputs": [],
   "source": []
  },
  {
   "cell_type": "code",
   "execution_count": null,
   "metadata": {
    "collapsed": false
   },
   "outputs": [],
   "source": []
  },
  {
   "cell_type": "code",
   "execution_count": null,
   "metadata": {
    "collapsed": true
   },
   "outputs": [],
   "source": []
  }
 ],
 "metadata": {
  "kernelspec": {
   "display_name": "Python 2",
   "language": "python",
   "name": "python2"
  },
  "language_info": {
   "codemirror_mode": {
    "name": "ipython",
    "version": 2
   },
   "file_extension": ".py",
   "mimetype": "text/x-python",
   "name": "python",
   "nbconvert_exporter": "python",
   "pygments_lexer": "ipython2",
   "version": "2.7.8"
  }
 },
 "nbformat": 4,
 "nbformat_minor": 0
}
